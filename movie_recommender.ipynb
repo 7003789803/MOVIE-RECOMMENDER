{
 "cells": [
  {
   "cell_type": "code",
   "execution_count": null,
   "id": "df9a1c22-6705-4b21-9190-12c047bd2b63",
   "metadata": {},
   "outputs": [],
   "source": [
    "import pandas as pd\n",
    "import numpy as np\n",
    "from sklearn.feature_extraction.text import TfidfVectorizer\n",
    "from sklearn.metrics.pairwise import cosine_similarity"
   ]
  },
  {
   "cell_type": "code",
   "execution_count": null,
   "id": "1fa96257-2b57-454e-864a-fcfdc44d43ed",
   "metadata": {},
   "outputs": [],
   "source": [
    "df1 = pd.read_csv(\"movies.csv\")\n",
    "print(df1.head())"
   ]
  },
  {
   "cell_type": "code",
   "execution_count": null,
   "id": "6a513d7c-d022-44f2-877e-3360f2cabd9d",
   "metadata": {},
   "outputs": [],
   "source": [
    "df1.isna().sum()"
   ]
  },
  {
   "cell_type": "code",
   "execution_count": null,
   "id": "c8637185-55df-4497-8772-bf1f626fd2a1",
   "metadata": {},
   "outputs": [],
   "source": [
    "import re\n",
    "\n",
    "def clean_title(title):\n",
    "    return re.sub(\"[^a-zA-Z0-9 ]\", \"\", title)"
   ]
  },
  {
   "cell_type": "code",
   "execution_count": null,
   "id": "9b5728dc-819d-4f20-801e-6be9f3501c62",
   "metadata": {},
   "outputs": [],
   "source": [
    "df1['genres_list'] = df1['genres'].str.replace('|', ' ')\n",
    "df1['clean_title'] = df1['title'].apply(clean_title)\n",
    "\n",
    "movies_data = df1[['movieId', 'clean_title', 'genres_list']]\n",
    "print(movies_data.head())"
   ]
  },
  {
   "cell_type": "code",
   "execution_count": null,
   "id": "8e233a4c-26b3-4cec-b460-5f67dcc7ab4d",
   "metadata": {},
   "outputs": [],
   "source": [
    "df2 = pd.read_csv(\"ratings.csv\")\n",
    "print(df2.head())"
   ]
  },
  {
   "cell_type": "code",
   "execution_count": null,
   "id": "905ffccb-aec3-40c7-98b4-4d8e1be564c8",
   "metadata": {},
   "outputs": [],
   "source": [
    "df2.isna().sum()"
   ]
  },
  {
   "cell_type": "code",
   "execution_count": null,
   "id": "303c6aac-8068-4d35-be59-dd2601d022a9",
   "metadata": {},
   "outputs": [],
   "source": [
    "ratings_data = df2.drop(['timestamp'], axis=1)\n",
    "print(ratings_data.head())"
   ]
  },
  {
   "cell_type": "code",
   "execution_count": null,
   "id": "dd9005ff-cf02-4235-8b5f-01dc7dc5cc7d",
   "metadata": {},
   "outputs": [],
   "source": [
    "combined_data = ratings_data.merge(movies_data, on='movieId')\n",
    "print(combined_data.head())"
   ]
  },
  {
   "cell_type": "code",
   "execution_count": null,
   "id": "f20ffadc-2be0-4a7c-a6a5-acf3a11b6211",
   "metadata": {},
   "outputs": [],
   "source": [
    "vectorizer_title = TfidfVectorizer(ngram_range=(1,2))\n",
    "\n",
    "tfidf_title = vectorizer_title.fit_transform(movies_data['clean_title'])\n",
    "\n",
    "def search_by_title(title):\n",
    "    title = clean_title(title)\n",
    "    query_vec = vectorizer_title.transform([title])\n",
    "    similarity = cosine_similarity(query_vec, tfidf_title).flatten()\n",
    "    indices = np.argpartition(similarity, -5)[-5:]\n",
    "    results = movies_data.iloc[indices][::-1]\n",
    "    return results\n",
    "\n",
    "movie_results = search_by_title(\"Toy Story\")\n",
    "print(movie_results)"
   ]
  },
  {
   "cell_type": "code",
   "execution_count": null,
   "id": "d05570e7-4db1-4caa-a2c1-f5aacb4eda11",
   "metadata": {},
   "outputs": [],
   "source": [
    "vectorizer_genres = TfidfVectorizer(ngram_range=(1,2))\n",
    "\n",
    "tfidf_genres = vectorizer_genres.fit_transform(movies_data['genres_list'])\n",
    "\n",
    "def search_similar_genres(genres):\n",
    "    query_vec = vectorizer_genres.transform([genres])\n",
    "    similarity = cosine_similarity(query_vec, tfidf_genres).flatten()\n",
    "    indices = np.argpartition(similarity, -10)[-10:]\n",
    "    results = movies_data.iloc[indices][::-1]\n",
    "    return results\n",
    "\n",
    "gen = 'Adventure Comedy'\n",
    "print(search_similar_genres(gen))"
   ]
  },
  {
   "cell_type": "code",
   "execution_count": null,
   "id": "b4e1dbd9-4750-4a37-bbd1-06ec244ec7a4",
   "metadata": {},
   "outputs": [],
   "source": [
    "def scores_calculator(movie_id):\n",
    "    #find the recommendations from users who like the same movie\n",
    "    similar_users = combined_data[(combined_data['movieId']== movie_id) & (combined_data['rating']>=4)]['userId'].unique()\n",
    "    similar_user_recs = combined_data[(combined_data['userId'].isin(similar_users)) & (combined_data['rating']>=4)]['movieId']\n",
    "    similar_user_recs = similar_user_recs.value_counts() / len(similar_users)\n",
    "    #print(similar_user_recs)\n",
    "    \n",
    "    #find the recommendations from all users who have watch the movies above\n",
    "    all_users = combined_data[(combined_data['movieId'].isin(similar_user_recs.index)) & (combined_data['rating']>=4)]\n",
    "    all_users_recs = all_users['movieId'].value_counts() / all_users['userId'].nunique()\n",
    "    #print(all_users_recs)\n",
    "    \n",
    "    genres_of_selected_movie = combined_data[combined_data['movieId']==movie_id]['genres_list'].unique()\n",
    "    genres_of_selected_movie = np.array2string(genres_of_selected_movie)\n",
    "    movies_with_similar_genres = search_similar_genres(genres_of_selected_movie)\n",
    "    \n",
    "    indices = []\n",
    "    for index in movies_with_similar_genres[(movies_with_similar_genres['movieId'].isin(similar_user_recs.index))]['movieId']:\n",
    "        indices.append(index)\n",
    "    \n",
    "    #times a factor 1.5 to movies with similar genres and similar users\n",
    "    similar_user_recs.loc[indices] = similar_user_recs.loc[indices]*1.5 \n",
    "\n",
    "    #times a factor 0.9 to movies with similar genres and all users\n",
    "    indices = []\n",
    "    for index in movies_with_similar_genres[(movies_with_similar_genres['movieId'].isin(all_users_recs.index))]['movieId']:\n",
    "        indices.append(index)\n",
    "    all_users_recs.loc[indices] = all_users_recs.loc[indices]*0.9\n",
    "    \n",
    "    rec_percentages = pd.concat([similar_user_recs, all_users_recs], axis=1)\n",
    "    rec_percentages.columns = ['similar', 'all']\n",
    "    rec_percentages['score'] = rec_percentages['similar'] / rec_percentages['all']\n",
    "    \n",
    "    rec_percentages = rec_percentages.sort_values('score', ascending=False)\n",
    "    return rec_percentages\n",
    "\n",
    "scores_calculator(3114)"
   ]
  },
  {
   "cell_type": "code",
   "execution_count": null,
   "id": "d662dcfd-b326-40ba-9a01-36813e7ab825",
   "metadata": {},
   "outputs": [],
   "source": [
    "def recommendation_results(user_input, title=0):\n",
    "    # user_input = clean_title(user_input)\n",
    "    title_candidates = search_by_title(user_input)\n",
    "    movie_id = title_candidates.iloc[title]['movieId']\n",
    "    scores = scores_calculator(movie_id)\n",
    "    results = scores.head(10).merge(movies_data, left_index=True, right_on='movieId')[['clean_title', 'score', 'genres_list']]\n",
    "    resutls = results.rename(columns={'clean_title': 'title', 'genres_list': 'genres'}, inplace=True)\n",
    "    return results\n",
    "\n",
    "user_input = \"Toy Story\"\n",
    "print(\"Are you looking for (please choose a number): \")\n",
    "for i in range(5):\n",
    "    print(i, \": \", search_by_title(user_input)['clean_title'].iloc[i])\n",
    "\n",
    "title = 0\n",
    "if int(title) in range(5):\n",
    "    print(\"We have following recommendations: \")\n",
    "    print(recommendation_results(user_input, int(title)))\n",
    "else:\n",
    "    print(\"Sorry! please try again!\")"
   ]
  }
 ],
 "metadata": {
  "kernelspec": {
   "display_name": "Python 3 (ipykernel)",
   "language": "python",
   "name": "python3"
  },
  "language_info": {
   "codemirror_mode": {
    "name": "ipython",
    "version": 3
   },
   "file_extension": ".py",
   "mimetype": "text/x-python",
   "name": "python",
   "nbconvert_exporter": "python",
   "pygments_lexer": "ipython3",
   "version": "3.12.4"
  }
 },
 "nbformat": 4,
 "nbformat_minor": 5
}
