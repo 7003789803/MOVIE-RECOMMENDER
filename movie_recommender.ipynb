{
 "cells": [
  {
   "cell_type": "code",
   "execution_count": 46,
   "id": "df9a1c22-6705-4b21-9190-12c047bd2b63",
   "metadata": {},
   "outputs": [],
   "source": [
    "import pandas as pd\n",
    "import numpy as np\n",
    "from sklearn.feature_extraction.text import TfidfVectorizer\n",
    "from sklearn.metrics.pairwise import cosine_similarity"
   ]
  },
  {
   "cell_type": "code",
   "execution_count": 50,
   "id": "1fa96257-2b57-454e-864a-fcfdc44d43ed",
   "metadata": {},
   "outputs": [
    {
     "name": "stdout",
     "output_type": "stream",
     "text": [
      "   movieId                               title  \\\n",
      "0        1                    Toy Story (1995)   \n",
      "1        2                      Jumanji (1995)   \n",
      "2        3             Grumpier Old Men (1995)   \n",
      "3        4            Waiting to Exhale (1995)   \n",
      "4        5  Father of the Bride Part II (1995)   \n",
      "\n",
      "                                        genres  \n",
      "0  Adventure|Animation|Children|Comedy|Fantasy  \n",
      "1                   Adventure|Children|Fantasy  \n",
      "2                               Comedy|Romance  \n",
      "3                         Comedy|Drama|Romance  \n",
      "4                                       Comedy  \n"
     ]
    }
   ],
   "source": [
    "df1 = pd.read_csv(\"movies.csv\")\n",
    "print(df1.head())"
   ]
  },
  {
   "cell_type": "code",
   "execution_count": 52,
   "id": "6a513d7c-d022-44f2-877e-3360f2cabd9d",
   "metadata": {},
   "outputs": [
    {
     "data": {
      "text/plain": [
       "movieId    0\n",
       "title      0\n",
       "genres     0\n",
       "dtype: int64"
      ]
     },
     "execution_count": 52,
     "metadata": {},
     "output_type": "execute_result"
    }
   ],
   "source": [
    "df1.isna().sum()"
   ]
  },
  {
   "cell_type": "code",
   "execution_count": 54,
   "id": "c8637185-55df-4497-8772-bf1f626fd2a1",
   "metadata": {},
   "outputs": [],
   "source": [
    "import re\n",
    "\n",
    "def clean_title(title):\n",
    "    return re.sub(\"[^a-zA-Z0-9 ]\", \"\", title)"
   ]
  },
  {
   "cell_type": "code",
   "execution_count": 56,
   "id": "9b5728dc-819d-4f20-801e-6be9f3501c62",
   "metadata": {},
   "outputs": [
    {
     "name": "stdout",
     "output_type": "stream",
     "text": [
      "   movieId                       clean_title  \\\n",
      "0        1                    Toy Story 1995   \n",
      "1        2                      Jumanji 1995   \n",
      "2        3             Grumpier Old Men 1995   \n",
      "3        4            Waiting to Exhale 1995   \n",
      "4        5  Father of the Bride Part II 1995   \n",
      "\n",
      "                                   genres_list  \n",
      "0  Adventure Animation Children Comedy Fantasy  \n",
      "1                   Adventure Children Fantasy  \n",
      "2                               Comedy Romance  \n",
      "3                         Comedy Drama Romance  \n",
      "4                                       Comedy  \n"
     ]
    }
   ],
   "source": [
    "df1['genres_list'] = df1['genres'].str.replace('|', ' ')\n",
    "df1['clean_title'] = df1['title'].apply(clean_title)\n",
    "\n",
    "movies_data = df1[['movieId', 'clean_title', 'genres_list']]\n",
    "print(movies_data.head())"
   ]
  },
  {
   "cell_type": "code",
   "execution_count": 60,
   "id": "8e233a4c-26b3-4cec-b460-5f67dcc7ab4d",
   "metadata": {},
   "outputs": [
    {
     "name": "stdout",
     "output_type": "stream",
     "text": [
      "   userId  movieId  rating  timestamp\n",
      "0       1        1     4.0  964982703\n",
      "1       1        3     4.0  964981247\n",
      "2       1        6     4.0  964982224\n",
      "3       1       47     5.0  964983815\n",
      "4       1       50     5.0  964982931\n"
     ]
    }
   ],
   "source": [
    "df2 = pd.read_csv(\"ratings.csv\")\n",
    "print(df2.head())"
   ]
  },
  {
   "cell_type": "code",
   "execution_count": 62,
   "id": "905ffccb-aec3-40c7-98b4-4d8e1be564c8",
   "metadata": {},
   "outputs": [
    {
     "data": {
      "text/plain": [
       "userId       0\n",
       "movieId      0\n",
       "rating       0\n",
       "timestamp    0\n",
       "dtype: int64"
      ]
     },
     "execution_count": 62,
     "metadata": {},
     "output_type": "execute_result"
    }
   ],
   "source": [
    "df2.isna().sum()"
   ]
  },
  {
   "cell_type": "code",
   "execution_count": 64,
   "id": "303c6aac-8068-4d35-be59-dd2601d022a9",
   "metadata": {},
   "outputs": [
    {
     "name": "stdout",
     "output_type": "stream",
     "text": [
      "   userId  movieId  rating\n",
      "0       1        1     4.0\n",
      "1       1        3     4.0\n",
      "2       1        6     4.0\n",
      "3       1       47     5.0\n",
      "4       1       50     5.0\n"
     ]
    }
   ],
   "source": [
    "ratings_data = df2.drop(['timestamp'], axis=1)\n",
    "print(ratings_data.head())"
   ]
  },
  {
   "cell_type": "code",
   "execution_count": 66,
   "id": "dd9005ff-cf02-4235-8b5f-01dc7dc5cc7d",
   "metadata": {},
   "outputs": [
    {
     "name": "stdout",
     "output_type": "stream",
     "text": [
      "   userId  movieId  rating              clean_title  \\\n",
      "0       1        1     4.0           Toy Story 1995   \n",
      "1       1        3     4.0    Grumpier Old Men 1995   \n",
      "2       1        6     4.0                Heat 1995   \n",
      "3       1       47     5.0     Seven aka Se7en 1995   \n",
      "4       1       50     5.0  Usual Suspects The 1995   \n",
      "\n",
      "                                   genres_list  \n",
      "0  Adventure Animation Children Comedy Fantasy  \n",
      "1                               Comedy Romance  \n",
      "2                        Action Crime Thriller  \n",
      "3                             Mystery Thriller  \n",
      "4                       Crime Mystery Thriller  \n"
     ]
    }
   ],
   "source": [
    "combined_data = ratings_data.merge(movies_data, on='movieId')\n",
    "print(combined_data.head())"
   ]
  },
  {
   "cell_type": "code",
   "execution_count": 68,
   "id": "f20ffadc-2be0-4a7c-a6a5-acf3a11b6211",
   "metadata": {},
   "outputs": [
    {
     "name": "stdout",
     "output_type": "stream",
     "text": [
      "      movieId        clean_title  \\\n",
      "0           1     Toy Story 1995   \n",
      "7355    78499   Toy Story 3 2010   \n",
      "2355     3114   Toy Story 2 1999   \n",
      "3595     4929       Toy The 1982   \n",
      "4089     5843  Toy Soldiers 1991   \n",
      "\n",
      "                                           genres_list  \n",
      "0          Adventure Animation Children Comedy Fantasy  \n",
      "7355  Adventure Animation Children Comedy Fantasy IMAX  \n",
      "2355       Adventure Animation Children Comedy Fantasy  \n",
      "3595                                            Comedy  \n",
      "4089                                      Action Drama  \n"
     ]
    }
   ],
   "source": [
    "vectorizer_title = TfidfVectorizer(ngram_range=(1,2))\n",
    "\n",
    "tfidf_title = vectorizer_title.fit_transform(movies_data['clean_title'])\n",
    "\n",
    "def search_by_title(title):\n",
    "    title = clean_title(title)\n",
    "    query_vec = vectorizer_title.transform([title])\n",
    "    similarity = cosine_similarity(query_vec, tfidf_title).flatten()\n",
    "    indices = np.argpartition(similarity, -5)[-5:]\n",
    "    results = movies_data.iloc[indices][::-1]\n",
    "    return results\n",
    "\n",
    "movie_results = search_by_title(\"Toy Story\")\n",
    "print(movie_results)"
   ]
  },
  {
   "cell_type": "code",
   "execution_count": 70,
   "id": "d05570e7-4db1-4caa-a2c1-f5aacb4eda11",
   "metadata": {},
   "outputs": [
    {
     "name": "stdout",
     "output_type": "stream",
     "text": [
      "      movieId                                        clean_title  \\\n",
      "732       952                   Around the World in 80 Days 1956   \n",
      "3438     4686                         Weekend at Bernies II 1993   \n",
      "2807     3752                              Me Myself  Irene 2000   \n",
      "3449     4704                                        Hatari 1962   \n",
      "6091    42009                        Cheaper by the Dozen 2 2005   \n",
      "7682    89305                        Inbetweeners Movie The 2011   \n",
      "3470     4734                Jay and Silent Bob Strike Back 2001   \n",
      "7331    77841     St Trinians 2 The Legend of Frittons Gold 2009   \n",
      "8010    97665  Asterix  Obelix God Save Britannia Astrix et O...   \n",
      "8051    98697    Money Money Money Laventure cest laventure 1972   \n",
      "\n",
      "           genres_list  \n",
      "732   Adventure Comedy  \n",
      "3438  Adventure Comedy  \n",
      "2807  Adventure Comedy  \n",
      "3449  Adventure Comedy  \n",
      "6091  Adventure Comedy  \n",
      "7682  Adventure Comedy  \n",
      "3470  Adventure Comedy  \n",
      "7331  Adventure Comedy  \n",
      "8010  Adventure Comedy  \n",
      "8051  Adventure Comedy  \n"
     ]
    }
   ],
   "source": [
    "vectorizer_genres = TfidfVectorizer(ngram_range=(1,2))\n",
    "\n",
    "tfidf_genres = vectorizer_genres.fit_transform(movies_data['genres_list'])\n",
    "\n",
    "def search_similar_genres(genres):\n",
    "    query_vec = vectorizer_genres.transform([genres])\n",
    "    similarity = cosine_similarity(query_vec, tfidf_genres).flatten()\n",
    "    indices = np.argpartition(similarity, -10)[-10:]\n",
    "    results = movies_data.iloc[indices][::-1]\n",
    "    return results\n",
    "\n",
    "gen = 'Adventure Comedy'\n",
    "print(search_similar_genres(gen))"
   ]
  },
  {
   "cell_type": "code",
   "execution_count": 76,
   "id": "b4e1dbd9-4750-4a37-bbd1-06ec244ec7a4",
   "metadata": {},
   "outputs": [
    {
     "data": {
      "text/html": [
       "<div>\n",
       "<style scoped>\n",
       "    .dataframe tbody tr th:only-of-type {\n",
       "        vertical-align: middle;\n",
       "    }\n",
       "\n",
       "    .dataframe tbody tr th {\n",
       "        vertical-align: top;\n",
       "    }\n",
       "\n",
       "    .dataframe thead th {\n",
       "        text-align: right;\n",
       "    }\n",
       "</style>\n",
       "<table border=\"1\" class=\"dataframe\">\n",
       "  <thead>\n",
       "    <tr style=\"text-align: right;\">\n",
       "      <th></th>\n",
       "      <th>similar</th>\n",
       "      <th>all</th>\n",
       "      <th>score</th>\n",
       "    </tr>\n",
       "    <tr>\n",
       "      <th>movieId</th>\n",
       "      <th></th>\n",
       "      <th></th>\n",
       "      <th></th>\n",
       "    </tr>\n",
       "  </thead>\n",
       "  <tbody>\n",
       "    <tr>\n",
       "      <th>3114</th>\n",
       "      <td>1.500000</td>\n",
       "      <td>0.082759</td>\n",
       "      <td>18.125000</td>\n",
       "    </tr>\n",
       "    <tr>\n",
       "      <th>5772</th>\n",
       "      <td>0.035714</td>\n",
       "      <td>0.003284</td>\n",
       "      <td>10.875000</td>\n",
       "    </tr>\n",
       "    <tr>\n",
       "      <th>6971</th>\n",
       "      <td>0.017857</td>\n",
       "      <td>0.001642</td>\n",
       "      <td>10.875000</td>\n",
       "    </tr>\n",
       "    <tr>\n",
       "      <th>102716</th>\n",
       "      <td>0.035714</td>\n",
       "      <td>0.003284</td>\n",
       "      <td>10.875000</td>\n",
       "    </tr>\n",
       "    <tr>\n",
       "      <th>6969</th>\n",
       "      <td>0.017857</td>\n",
       "      <td>0.001642</td>\n",
       "      <td>10.875000</td>\n",
       "    </tr>\n",
       "    <tr>\n",
       "      <th>...</th>\n",
       "      <td>...</td>\n",
       "      <td>...</td>\n",
       "      <td>...</td>\n",
       "    </tr>\n",
       "    <tr>\n",
       "      <th>339</th>\n",
       "      <td>0.035714</td>\n",
       "      <td>0.067323</td>\n",
       "      <td>0.530488</td>\n",
       "    </tr>\n",
       "    <tr>\n",
       "      <th>25</th>\n",
       "      <td>0.035714</td>\n",
       "      <td>0.070608</td>\n",
       "      <td>0.505814</td>\n",
       "    </tr>\n",
       "    <tr>\n",
       "      <th>454</th>\n",
       "      <td>0.035714</td>\n",
       "      <td>0.078818</td>\n",
       "      <td>0.453125</td>\n",
       "    </tr>\n",
       "    <tr>\n",
       "      <th>434</th>\n",
       "      <td>0.017857</td>\n",
       "      <td>0.039409</td>\n",
       "      <td>0.453125</td>\n",
       "    </tr>\n",
       "    <tr>\n",
       "      <th>153</th>\n",
       "      <td>0.017857</td>\n",
       "      <td>0.041051</td>\n",
       "      <td>0.435000</td>\n",
       "    </tr>\n",
       "  </tbody>\n",
       "</table>\n",
       "<p>3463 rows × 3 columns</p>\n",
       "</div>"
      ],
      "text/plain": [
       "          similar       all      score\n",
       "movieId                               \n",
       "3114     1.500000  0.082759  18.125000\n",
       "5772     0.035714  0.003284  10.875000\n",
       "6971     0.017857  0.001642  10.875000\n",
       "102716   0.035714  0.003284  10.875000\n",
       "6969     0.017857  0.001642  10.875000\n",
       "...           ...       ...        ...\n",
       "339      0.035714  0.067323   0.530488\n",
       "25       0.035714  0.070608   0.505814\n",
       "454      0.035714  0.078818   0.453125\n",
       "434      0.017857  0.039409   0.453125\n",
       "153      0.017857  0.041051   0.435000\n",
       "\n",
       "[3463 rows x 3 columns]"
      ]
     },
     "execution_count": 76,
     "metadata": {},
     "output_type": "execute_result"
    }
   ],
   "source": [
    "def scores_calculator(movie_id):\n",
    "    #find the recommendations from users who like the same movie\n",
    "    similar_users = combined_data[(combined_data['movieId']== movie_id) & (combined_data['rating']>=4)]['userId'].unique()\n",
    "    similar_user_recs = combined_data[(combined_data['userId'].isin(similar_users)) & (combined_data['rating']>=4)]['movieId']\n",
    "    similar_user_recs = similar_user_recs.value_counts() / len(similar_users)\n",
    "    #print(similar_user_recs)\n",
    "    \n",
    "    #find the recommendations from all users who have watch the movies above\n",
    "    all_users = combined_data[(combined_data['movieId'].isin(similar_user_recs.index)) & (combined_data['rating']>=4)]\n",
    "    all_users_recs = all_users['movieId'].value_counts() / all_users['userId'].nunique()\n",
    "    #print(all_users_recs)\n",
    "    \n",
    "    genres_of_selected_movie = combined_data[combined_data['movieId']==movie_id]['genres_list'].unique()\n",
    "    genres_of_selected_movie = np.array2string(genres_of_selected_movie)\n",
    "    movies_with_similar_genres = search_similar_genres(genres_of_selected_movie)\n",
    "    \n",
    "    indices = []\n",
    "    for index in movies_with_similar_genres[(movies_with_similar_genres['movieId'].isin(similar_user_recs.index))]['movieId']:\n",
    "        indices.append(index)\n",
    "    \n",
    "    #times a factor 1.5 to movies with similar genres and similar users\n",
    "    similar_user_recs.loc[indices] = similar_user_recs.loc[indices]*1.5 \n",
    "\n",
    "    #times a factor 0.9 to movies with similar genres and all users\n",
    "    indices = []\n",
    "    for index in movies_with_similar_genres[(movies_with_similar_genres['movieId'].isin(all_users_recs.index))]['movieId']:\n",
    "        indices.append(index)\n",
    "    all_users_recs.loc[indices] = all_users_recs.loc[indices]*0.9\n",
    "    \n",
    "    rec_percentages = pd.concat([similar_user_recs, all_users_recs], axis=1)\n",
    "    rec_percentages.columns = ['similar', 'all']\n",
    "    rec_percentages['score'] = rec_percentages['similar'] / rec_percentages['all']\n",
    "    \n",
    "    rec_percentages = rec_percentages.sort_values('score', ascending=False)\n",
    "    return rec_percentages\n",
    "\n",
    "scores_calculator(3114)"
   ]
  },
  {
   "cell_type": "code",
   "execution_count": 78,
   "id": "d662dcfd-b326-40ba-9a01-36813e7ab825",
   "metadata": {},
   "outputs": [
    {
     "name": "stdout",
     "output_type": "stream",
     "text": [
      "Are you looking for (please choose a number): \n",
      "0 :  Toy Story 1995\n",
      "1 :  Toy Story 3 2010\n",
      "2 :  Toy Story 2 1999\n",
      "3 :  Toy The 1982\n",
      "4 :  Toy Soldiers 1991\n",
      "We have following recommendations: \n",
      "                                             title     score  \\\n",
      "2809   Adventures of Rocky and Bullwinkle The 2000  6.904762   \n",
      "0                                   Toy Story 1995  6.904762   \n",
      "1706                                     Antz 1998  5.753968   \n",
      "2355                              Toy Story 2 1999  5.671769   \n",
      "2639             All the Vermeers in New York 1990  4.142857   \n",
      "4835                             Dark Passage 1947  4.142857   \n",
      "4746                                Red River 1948  4.142857   \n",
      "4742  Beauty and the Beast La belle et la bte 1946  4.142857   \n",
      "4740                      Birdman of Alcatraz 1962  4.142857   \n",
      "4739                             Dark Victory 1939  4.142857   \n",
      "\n",
      "                                           genres  \n",
      "2809  Adventure Animation Children Comedy Fantasy  \n",
      "0     Adventure Animation Children Comedy Fantasy  \n",
      "1706  Adventure Animation Children Comedy Fantasy  \n",
      "2355  Adventure Animation Children Comedy Fantasy  \n",
      "2639                         Comedy Drama Romance  \n",
      "4835       Crime Drama Film-Noir Romance Thriller  \n",
      "4746                     Action Adventure Western  \n",
      "4742                                Drama Fantasy  \n",
      "4740                                        Drama  \n",
      "4739                                Drama Romance  \n"
     ]
    }
   ],
   "source": [
    "def recommendation_results(user_input, title=0):\n",
    "    # user_input = clean_title(user_input)\n",
    "    title_candidates = search_by_title(user_input)\n",
    "    movie_id = title_candidates.iloc[title]['movieId']\n",
    "    scores = scores_calculator(movie_id)\n",
    "    results = scores.head(10).merge(movies_data, left_index=True, right_on='movieId')[['clean_title', 'score', 'genres_list']]\n",
    "    resutls = results.rename(columns={'clean_title': 'title', 'genres_list': 'genres'}, inplace=True)\n",
    "    return results\n",
    "\n",
    "user_input = \"Toy Story\"\n",
    "print(\"Are you looking for (please choose a number): \")\n",
    "for i in range(5):\n",
    "    print(i, \": \", search_by_title(user_input)['clean_title'].iloc[i])\n",
    "\n",
    "title = 0\n",
    "if int(title) in range(5):\n",
    "    print(\"We have following recommendations: \")\n",
    "    print(recommendation_results(user_input, int(title)))\n",
    "else:\n",
    "    print(\"Sorry! please try again!\")"
   ]
  }
 ],
 "metadata": {
  "kernelspec": {
   "display_name": "Python 3 (ipykernel)",
   "language": "python",
   "name": "python3"
  },
  "language_info": {
   "codemirror_mode": {
    "name": "ipython",
    "version": 3
   },
   "file_extension": ".py",
   "mimetype": "text/x-python",
   "name": "python",
   "nbconvert_exporter": "python",
   "pygments_lexer": "ipython3",
   "version": "3.12.4"
  }
 },
 "nbformat": 4,
 "nbformat_minor": 5
}
